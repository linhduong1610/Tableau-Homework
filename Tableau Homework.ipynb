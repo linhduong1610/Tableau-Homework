{
 "cells": [
  {
   "cell_type": "code",
   "execution_count": 13,
   "metadata": {},
   "outputs": [],
   "source": [
    "import os\n",
    "import pandas as pd\n",
    "import csv"
   ]
  },
  {
   "cell_type": "code",
   "execution_count": 14,
   "metadata": {},
   "outputs": [],
   "source": [
    "One_file = os.path.join(\"Tableau/201806-citibike-tripdata.csv\")\n",
    "Two_file = os.path.join(\"Tableau/201807-citibike-tripdata.csv\")\n",
    "Three_file = os.path.join(\"Tableau/201808-citibike-tripdata.csv\")\n",
    "Four_file = os.path.join(\"Tableau/201809-citibike-tripdata.csv\")\n",
    "Five_file = os.path.join(\"Tableau/201810-citibike-tripdata.csv\")\n",
    "Six_file = os.path.join(\"Tableau/201811-citibike-tripdata.csv\")\n",
    "Seven_file = os.path.join(\"Tableau/201812-citibike-tripdata.csv\")\n",
    "Eight_file = os.path.join(\"Tableau/201901-citibike-tripdata.csv\")\n",
    "Nine_file = os.path.join(\"Tableau/201902-citibike-tripdata.csv\")\n",
    "Ten_file = os.path.join(\"Tableau/201903-citibike-tripdata.csv\")\n",
    "Eleven_file = os.path.join(\"Tableau/201904-citibike-tripdata.csv\")\n",
    "Twelve_file = os.path.join(\"Tableau/201905-citibike-tripdata.csv\")\n",
    "\n",
    "\n"
   ]
  },
  {
   "cell_type": "code",
   "execution_count": 15,
   "metadata": {},
   "outputs": [],
   "source": [
    "One_file_df = pd.read_csv(One_file)\n",
    "Two_file_df = pd.read_csv(Two_file)\n",
    "Three_file_df = pd.read_csv(Three_file)\n",
    "Four_file_df = pd.read_csv(Four_file)\n",
    "Five_file_df = pd.read_csv(Five_file)\n",
    "Six_file_df = pd.read_csv(Six_file)\n",
    "Seven_file_df = pd.read_csv(Seven_file)\n",
    "Eight_file_df = pd.read_csv(Eight_file)\n",
    "Nine_file_df = pd.read_csv(Nine_file)\n",
    "Ten_file_df = pd.read_csv(Ten_file)\n",
    "Eleven_file_df = pd.read_csv(Eleven_file)\n",
    "Twelve_file_df = pd.read_csv(Twelve_file)\n"
   ]
  },
  {
   "cell_type": "code",
   "execution_count": 16,
   "metadata": {},
   "outputs": [],
   "source": [
    "frames = [One_file_df, Two_file_df,Three_file_df,Four_file_df,Five_file_df,Six_file_df, Seven_file_df,Eight_file_df,Nine_file_df,Ten_file_df,Eleven_file_df,Twelve_file_df]\n",
    "df = pd.concat(frames)\n",
    "df = df.reset_index()\n"
   ]
  },
  {
   "cell_type": "code",
   "execution_count": 17,
   "metadata": {},
   "outputs": [],
   "source": [
    "df = df.rename(columns={'index': 'rideid'})\n",
    "df.to_csv('mergedfile.csv', index=False)"
   ]
  }
 ],
 "metadata": {
  "kernelspec": {
   "display_name": "Python 3",
   "language": "python",
   "name": "python3"
  },
  "language_info": {
   "codemirror_mode": {
    "name": "ipython",
    "version": 3
   },
   "file_extension": ".py",
   "mimetype": "text/x-python",
   "name": "python",
   "nbconvert_exporter": "python",
   "pygments_lexer": "ipython3",
   "version": "3.7.2"
  }
 },
 "nbformat": 4,
 "nbformat_minor": 2
}
